{
 "cells": [
  {
   "cell_type": "code",
   "execution_count": 1,
   "metadata": {
    "collapsed": false
   },
   "outputs": [],
   "source": [
    "import os"
   ]
  },
  {
   "cell_type": "code",
   "execution_count": 2,
   "metadata": {
    "collapsed": true
   },
   "outputs": [],
   "source": [
    "import csv"
   ]
  },
  {
   "cell_type": "code",
   "execution_count": 3,
   "metadata": {
    "collapsed": false
   },
   "outputs": [],
   "source": [
    "rootdir = 'H:/Digital Image Library to be added/To Be Added'\n",
    "\n",
    "DILdict = {}\n",
    "\n",
    "for subdir, dirs, files in os.walk(rootdir):\n",
    "    for file in files:\n",
    "        splitDir = (os.path.join(subdir)).split('\\\\')\n",
    "        try:\n",
    "            gotdata = splitDir[1]\n",
    "        except IndexError:\n",
    "            continue\n",
    "        if splitDir[1] not in DILdict:\n",
    "            filesTypes = [[],[]]\n",
    "            DILdict[splitDir[1]] = filesTypes\n",
    "            if os.path.join(subdir)[-4:] == 'JPEG':\n",
    "                DILdict[splitDir[1]][0].append(file)\n",
    "            elif os.path.join(subdir)[-4:] == 'TIFF':\n",
    "                DILdict[splitDir[1]][1].append(file)\n",
    "        else:\n",
    "            if os.path.join(subdir)[-4:] == 'JPEG':\n",
    "                DILdict[splitDir[1]][0].append(file)\n",
    "            elif os.path.join(subdir)[-4:] == 'TIFF':\n",
    "                DILdict[splitDir[1]][1].append(file)            "
   ]
  },
  {
   "cell_type": "code",
   "execution_count": 4,
   "metadata": {
    "collapsed": true
   },
   "outputs": [],
   "source": [
    "writeList = []\n",
    "for key, value in DILdict.items():\n",
    "    rowList = [key]\n",
    "    for item in value:\n",
    "        rowList.append(item)\n",
    "    writeList.append(rowList)"
   ]
  },
  {
   "cell_type": "code",
   "execution_count": 5,
   "metadata": {
    "collapsed": true
   },
   "outputs": [],
   "source": [
    "with open('C:/Users/tdahn/Desktop/tobeadded.csv', 'w', newline='', encoding='utf8') as f:\n",
    "    writer = csv.writer(f)\n",
    "    for row in writeList:\n",
    "        writer.writerow(row)\n",
    "f.close()"
   ]
  },
  {
   "cell_type": "code",
   "execution_count": null,
   "metadata": {
    "collapsed": true
   },
   "outputs": [],
   "source": []
  }
 ],
 "metadata": {
  "kernelspec": {
   "display_name": "Python 3",
   "language": "python",
   "name": "python3"
  },
  "language_info": {
   "codemirror_mode": {
    "name": "ipython",
    "version": 3
   },
   "file_extension": ".py",
   "mimetype": "text/x-python",
   "name": "python",
   "nbconvert_exporter": "python",
   "pygments_lexer": "ipython3",
   "version": "3.4.4"
  }
 },
 "nbformat": 4,
 "nbformat_minor": 0
}
